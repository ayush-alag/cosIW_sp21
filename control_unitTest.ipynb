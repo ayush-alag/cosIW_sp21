{
 "cells": [
  {
   "cell_type": "code",
   "execution_count": 5,
   "metadata": {},
   "outputs": [],
   "source": [
    "\"\"\"deluca.agents._mem\"\"\"\n",
    "from numbers import Real\n",
    "from typing import Callable\n",
    "\n",
    "import jax\n",
    "import jax.numpy as jnp\n",
    "import numpy as np\n",
    "from jax import grad\n",
    "from jax import jit\n",
    "\n",
    "from deluca.agents._lqr import LQR\n",
    "from deluca.agents.core import Agent\n",
    "\n",
    "from deluca.utils.optimR import optimROBD"
   ]
  },
  {
   "cell_type": "code",
   "execution_count": 8,
   "metadata": {},
   "outputs": [],
   "source": [
    "def idx(B):\n",
    "    return np.where(B.any(axis=1))[0] #return indices of non-zero rows"
   ]
  },
  {
   "cell_type": "code",
   "execution_count": 21,
   "metadata": {},
   "outputs": [
    {
     "name": "stdout",
     "output_type": "stream",
     "text": [
      "[2 3 6]\n",
      "works!\n"
     ]
    }
   ],
   "source": [
    "'''Test idx'''\n",
    "B = np.array([[0, 0, 0], [0,0,0], [1,2,3], [0, 1, 0], [0,0,0], [0,0,0],[1,0,0]])\n",
    "ks = idx(B)\n",
    "print(ks)\n",
    "print(\"works!\")"
   ]
  },
  {
   "cell_type": "code",
   "execution_count": 27,
   "metadata": {},
   "outputs": [],
   "source": [
    "def defineP(ks):\n",
    "    ps = np.ndarray((len(ks), 1))\n",
    "    ps[0] = ks[0]\n",
    "    for i in range(1,len(ks)):\n",
    "        ps[i] = ks[i] - ks[i-1]\n",
    "    return ps.astype(int), int(np.amax(ps))"
   ]
  },
  {
   "cell_type": "code",
   "execution_count": 28,
   "metadata": {},
   "outputs": [
    {
     "name": "stdout",
     "output_type": "stream",
     "text": [
      "[[2]\n",
      " [1]\n",
      " [3]] 3\n"
     ]
    }
   ],
   "source": [
    "''' Test defineP '''\n",
    "ps, p = defineP(idx(B))\n",
    "print(ps, p)"
   ]
  },
  {
   "cell_type": "code",
   "execution_count": 57,
   "metadata": {},
   "outputs": [],
   "source": [
    "#TODO: define d and other undefined variables throughout\n",
    "#TODO: check indices all over (1-indexed vs 0-indexed)\n",
    "def defineCs(A, ks, p, ps):\n",
    "    d = len(ks)\n",
    "    Cs = np.ndarray((p, d, d))\n",
    "    #TODO: change from 0-indexed to 1-indexed (add dummy)\n",
    "    for i in range(0, p):\n",
    "        a_identity = A[ks, :]\n",
    "        C = np.ndarray((d, d))\n",
    "        for j in range(0, d):\n",
    "            if i <= ps[j]:\n",
    "                print(ks[j])\n",
    "                C[:, j] = a_identity[:, ks[j]-i-1]\n",
    "            else:\n",
    "                C[:, j] = np.zeros(d)\n",
    "        Cs[i] = C\n",
    "    return Cs"
   ]
  },
  {
   "cell_type": "code",
   "execution_count": 58,
   "metadata": {},
   "outputs": [
    {
     "name": "stdout",
     "output_type": "stream",
     "text": [
      "2\n",
      "3\n",
      "6\n"
     ]
    },
    {
     "ename": "IndexError",
     "evalue": "index 5 is out of bounds for axis 1 with size 3",
     "output_type": "error",
     "traceback": [
      "\u001b[0;31m---------------------------------------------------------------------------\u001b[0m",
      "\u001b[0;31mIndexError\u001b[0m                                Traceback (most recent call last)",
      "\u001b[0;32m<ipython-input-58-4b4b25bc1217>\u001b[0m in \u001b[0;36m<module>\u001b[0;34m\u001b[0m\n\u001b[0;32m----> 1\u001b[0;31m \u001b[0mdefineCs\u001b[0m\u001b[0;34m(\u001b[0m\u001b[0mB\u001b[0m\u001b[0;34m,\u001b[0m \u001b[0mks\u001b[0m\u001b[0;34m,\u001b[0m \u001b[0mp\u001b[0m\u001b[0;34m,\u001b[0m \u001b[0mps\u001b[0m\u001b[0;34m)\u001b[0m\u001b[0;34m\u001b[0m\u001b[0;34m\u001b[0m\u001b[0m\n\u001b[0m",
      "\u001b[0;32m<ipython-input-57-b86dfbc4e769>\u001b[0m in \u001b[0;36mdefineCs\u001b[0;34m(A, ks, p, ps)\u001b[0m\n\u001b[1;32m     11\u001b[0m             \u001b[0;32mif\u001b[0m \u001b[0mi\u001b[0m \u001b[0;34m<=\u001b[0m \u001b[0mps\u001b[0m\u001b[0;34m[\u001b[0m\u001b[0mj\u001b[0m\u001b[0;34m]\u001b[0m\u001b[0;34m:\u001b[0m\u001b[0;34m\u001b[0m\u001b[0;34m\u001b[0m\u001b[0m\n\u001b[1;32m     12\u001b[0m                 \u001b[0mprint\u001b[0m\u001b[0;34m(\u001b[0m\u001b[0mks\u001b[0m\u001b[0;34m[\u001b[0m\u001b[0mj\u001b[0m\u001b[0;34m]\u001b[0m\u001b[0;34m)\u001b[0m\u001b[0;34m\u001b[0m\u001b[0;34m\u001b[0m\u001b[0m\n\u001b[0;32m---> 13\u001b[0;31m                 \u001b[0mC\u001b[0m\u001b[0;34m[\u001b[0m\u001b[0;34m:\u001b[0m\u001b[0;34m,\u001b[0m \u001b[0mj\u001b[0m\u001b[0;34m]\u001b[0m \u001b[0;34m=\u001b[0m \u001b[0ma_identity\u001b[0m\u001b[0;34m[\u001b[0m\u001b[0;34m:\u001b[0m\u001b[0;34m,\u001b[0m \u001b[0mks\u001b[0m\u001b[0;34m[\u001b[0m\u001b[0mj\u001b[0m\u001b[0;34m]\u001b[0m\u001b[0;34m-\u001b[0m\u001b[0mi\u001b[0m\u001b[0;34m-\u001b[0m\u001b[0;36m1\u001b[0m\u001b[0;34m]\u001b[0m\u001b[0;34m\u001b[0m\u001b[0;34m\u001b[0m\u001b[0m\n\u001b[0m\u001b[1;32m     14\u001b[0m             \u001b[0;32melse\u001b[0m\u001b[0;34m:\u001b[0m\u001b[0;34m\u001b[0m\u001b[0;34m\u001b[0m\u001b[0m\n\u001b[1;32m     15\u001b[0m                 \u001b[0mC\u001b[0m\u001b[0;34m[\u001b[0m\u001b[0;34m:\u001b[0m\u001b[0;34m,\u001b[0m \u001b[0mj\u001b[0m\u001b[0;34m]\u001b[0m \u001b[0;34m=\u001b[0m \u001b[0mnp\u001b[0m\u001b[0;34m.\u001b[0m\u001b[0mzeros\u001b[0m\u001b[0;34m(\u001b[0m\u001b[0md\u001b[0m\u001b[0;34m)\u001b[0m\u001b[0;34m\u001b[0m\u001b[0;34m\u001b[0m\u001b[0m\n",
      "\u001b[0;31mIndexError\u001b[0m: index 5 is out of bounds for axis 1 with size 3"
     ]
    }
   ],
   "source": [
    "''' Testing defineCs '''\n",
    "defineCs(B, ks, p, ps)"
   ]
  },
  {
   "cell_type": "code",
   "execution_count": 59,
   "metadata": {},
   "outputs": [],
   "source": [
    "def hitFunc(qs, ps, ks, t):\n",
    "    # define a function of y that can be optimized\n",
    "    # is y n-dimensional or d-dimensional? \n",
    "    # TODO: clarify and change to d-dimensional based on ks\n",
    "    def func(y):\n",
    "        masterSum = 0\n",
    "        d = len(ks)\n",
    "        for i in range(d):\n",
    "            littleSum = 0\n",
    "            for j in range(1, ps[i]):\n",
    "                littleSum += qs[t+j]\n",
    "            masterSum += (littleSum * (y[ks[i]] ** 2))\n",
    "        return masterSum/2\n",
    "\n",
    "    return func"
   ]
  },
  {
   "cell_type": "code",
   "execution_count": null,
   "metadata": {},
   "outputs": [],
   "source": []
  }
 ],
 "metadata": {
  "kernelspec": {
   "display_name": "Python 3",
   "language": "python",
   "name": "python3"
  },
  "language_info": {
   "codemirror_mode": {
    "name": "ipython",
    "version": 3
   },
   "file_extension": ".py",
   "mimetype": "text/x-python",
   "name": "python",
   "nbconvert_exporter": "python",
   "pygments_lexer": "ipython3",
   "version": "3.7.3"
  }
 },
 "nbformat": 4,
 "nbformat_minor": 2
}
