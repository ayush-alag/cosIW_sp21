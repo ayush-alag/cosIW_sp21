{
 "cells": [
  {
   "cell_type": "code",
   "execution_count": 3,
   "metadata": {},
   "outputs": [
    {
     "name": "stderr",
     "output_type": "stream",
     "text": [
      "/Users/ayushalag/anaconda3/lib/python3.7/site-packages/gym/logger.py:30: UserWarning: \u001b[33mWARN: Box bound precision lowered by casting to float32\u001b[0m\n",
      "  warnings.warn(colorize('%s: %s'%('WARN', msg % args), 'yellow'))\n"
     ]
    }
   ],
   "source": [
    "\"\"\"deluca.agents._mem\"\"\"\n",
    "from numbers import Real\n",
    "from typing import Callable\n",
    "\n",
    "import jax\n",
    "import jax.numpy as jnp\n",
    "import numpy as np\n",
    "from jax import grad\n",
    "from jax import jit\n",
    "\n",
    "from deluca.agents._lqr import LQR\n",
    "from deluca.agents.core import Agent\n",
    "\n",
    "from deluca.utils.optimR import optimROBD"
   ]
  },
  {
   "cell_type": "code",
   "execution_count": 35,
   "metadata": {},
   "outputs": [],
   "source": [
    "def idx(B):\n",
    "    return np.where(B.any(axis=1))[0].astype(int) #return indices of non-zero rows"
   ]
  },
  {
   "cell_type": "code",
   "execution_count": 54,
   "metadata": {},
   "outputs": [
    {
     "name": "stdout",
     "output_type": "stream",
     "text": [
      "[0 2]\n",
      "works!\n"
     ]
    }
   ],
   "source": [
    "'''Test idx'''\n",
    "B = np.array([[1,2,3], [0, 0, 0], [0,1,0]])\n",
    "ks = idx(B)\n",
    "print(ks)\n",
    "print(\"works!\")"
   ]
  },
  {
   "cell_type": "code",
   "execution_count": 37,
   "metadata": {},
   "outputs": [],
   "source": [
    "def defineP(ks):\n",
    "    ps = np.ndarray((len(ks), 1))\n",
    "    ps[0] = ks[0]\n",
    "    for i in range(1,len(ks)):\n",
    "        ps[i] = ks[i] - ks[i-1]\n",
    "    return ps.astype(int), int(np.amax(ps))"
   ]
  },
  {
   "cell_type": "code",
   "execution_count": 38,
   "metadata": {},
   "outputs": [
    {
     "name": "stdout",
     "output_type": "stream",
     "text": [
      "[[0]\n",
      " [1]\n",
      " [1]] 1\n"
     ]
    }
   ],
   "source": [
    "''' Test defineP '''\n",
    "ps, p = defineP(idx(B))\n",
    "print(ps, p)"
   ]
  },
  {
   "cell_type": "code",
   "execution_count": 52,
   "metadata": {},
   "outputs": [],
   "source": [
    "def defineCs(A, B, p, d, ps, ks):\n",
    "    Cs = np.ndarray((p, d, d))\n",
    "\n",
    "    for i in range(1, p+1):\n",
    "        a_identity = A[ks.astype(int)] #check slicing\n",
    "        C = np.ndarray((d, d))\n",
    "        for j in range(1, d+1):\n",
    "            if i <= ps[j-1]:\n",
    "                C[:, j-1] = a_identity[:, ks[j-1]+1-i]\n",
    "            else:\n",
    "                C[:, j-1] = np.zeros(d)\n",
    "        Cs[i-1] = C\n",
    "    return Cs"
   ]
  },
  {
   "cell_type": "code",
   "execution_count": 56,
   "metadata": {},
   "outputs": [
    {
     "data": {
      "text/plain": [
       "array([[[0., 3.],\n",
       "        [0., 5.]]])"
      ]
     },
     "execution_count": 56,
     "metadata": {},
     "output_type": "execute_result"
    }
   ],
   "source": [
    "''' Testing defineCs '''\n",
    "A = np.array([[1,2,3], [1,3,4], [1,3,5]])\n",
    "d = 2\n",
    "defineCs(A, B, p, d, ps, ks)"
   ]
  },
  {
   "cell_type": "code",
   "execution_count": 79,
   "metadata": {},
   "outputs": [],
   "source": [
    "def hitFunc(qs, ps, ks, t):\n",
    "    def func(y):\n",
    "        masterSum = 0\n",
    "        for i in range(d):\n",
    "            littleSum = 0\n",
    "            for j in range(1, int(ps[i-1])):\n",
    "                littleSum += qs[t+j]\n",
    "            print(littleSum)\n",
    "            masterSum += (littleSum * (y[ks[i]] ** 2))\n",
    "        return masterSum/2\n",
    "\n",
    "    return func"
   ]
  },
  {
   "cell_type": "code",
   "execution_count": 81,
   "metadata": {},
   "outputs": [
    {
     "name": "stdout",
     "output_type": "stream",
     "text": [
      "[1. 1.]\n",
      "[[0]\n",
      " [1]\n",
      " [1]]\n",
      "0\n",
      "0\n"
     ]
    },
    {
     "data": {
      "text/plain": [
       "0.0"
      ]
     },
     "execution_count": 81,
     "metadata": {},
     "output_type": "execute_result"
    }
   ],
   "source": [
    "print(np.ones(d))\n",
    "print(ps)\n",
    "hitFunc(np.ones(d), ps, ks, 2)(np.array([1,2,3]))"
   ]
  },
  {
   "cell_type": "code",
   "execution_count": null,
   "metadata": {},
   "outputs": [],
   "source": []
  }
 ],
 "metadata": {
  "kernelspec": {
   "display_name": "Python 3",
   "language": "python",
   "name": "python3"
  },
  "language_info": {
   "codemirror_mode": {
    "name": "ipython",
    "version": 3
   },
   "file_extension": ".py",
   "mimetype": "text/x-python",
   "name": "python",
   "nbconvert_exporter": "python",
   "pygments_lexer": "ipython3",
   "version": "3.7.3"
  }
 },
 "nbformat": 4,
 "nbformat_minor": 4
}
