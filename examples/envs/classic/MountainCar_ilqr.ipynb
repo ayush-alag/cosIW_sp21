{
 "cells": [
  {
   "cell_type": "code",
   "execution_count": 1,
   "metadata": {},
   "outputs": [],
   "source": [
    "%load_ext autoreload\n",
    "%autoreload 2"
   ]
  },
  {
   "cell_type": "code",
   "execution_count": 4,
   "metadata": {},
   "outputs": [],
   "source": [
    "import sys\n",
    "sys.path.append('/Users/ayushalag/Documents/cosIW/deluca')"
   ]
  },
  {
   "cell_type": "code",
   "execution_count": 5,
   "metadata": {},
   "outputs": [
    {
     "name": "stderr",
     "output_type": "stream",
     "text": [
      "/Users/ayushalag/anaconda3/lib/python3.7/site-packages/gym/logger.py:30: UserWarning: \u001b[33mWARN: Box bound precision lowered by casting to float32\u001b[0m\n",
      "  warnings.warn(colorize('%s: %s'%('WARN', msg % args), 'yellow'))\n"
     ]
    }
   ],
   "source": [
    "import jax.numpy as jnp\n",
    "import numpy as np\n",
    "import matplotlib.pyplot as plt\n",
    "import jax\n",
    "from jax import lax\n",
    "from deluca.envs import MountainCar\n",
    "from deluca.agents import ILQR\n"
   ]
  },
  {
   "cell_type": "code",
   "execution_count": 6,
   "metadata": {},
   "outputs": [
    {
     "name": "stderr",
     "output_type": "stream",
     "text": [
      "WARNING:absl:No GPU/TPU found, falling back to CPU. (Set TF_CPP_MIN_LOG_LEVEL=0 and rerun for more info.)\n"
     ]
    },
    {
     "name": "stdout",
     "output_type": "stream",
     "text": [
      "c = 4.9999976\n",
      "cC = 0.050000045\n",
      "iLQR : t = 2, c = 0.050000\n",
      "c = 0.050000045\n",
      "cC = 0.0022050058\n",
      "iLQR : t = 3, c = 0.002205\n",
      "c = 0.0022050058\n",
      "cC = 0.00024158013\n",
      "iLQR : t = 4, c = 0.000242\n",
      "c = 0.00024158013\n",
      "cC = 5.2032905e-05\n",
      "iLQR : t = 5, c = 0.000052\n",
      "c = 5.2032905e-05\n",
      "cC = 1.9393794e-05\n",
      "iLQR : t = 6, c = 0.000019\n",
      "c = 1.9393794e-05\n",
      "cC = 1.1545322e-05\n",
      "iLQR : t = 7, c = 0.000012\n",
      "c = 1.1545322e-05\n",
      "cC = 1.0391023e-05\n",
      "iLQR : t = 8, c = 0.000010\n",
      "c = 1.0391023e-05\n",
      "cC = 1.3589489e-05\n",
      "iLQR : t = 9, c = 0.000010\n",
      "c = 1.0391023e-05\n",
      "cC = 9.352852e-06\n",
      "iLQR : t = 10, c = 0.000009\n",
      "c = 9.352852e-06\n",
      "cC = 1.2230885e-05\n",
      "iLQR : t = 11, c = 0.000009\n",
      "c = 9.352852e-06\n",
      "cC = 8.418739e-06\n",
      "iLQR : t = 12, c = 0.000008\n"
     ]
    }
   ],
   "source": [
    "agent = ILQR()\n",
    "agent.train(MountainCar(), 10)"
   ]
  },
  {
   "cell_type": "code",
   "execution_count": 7,
   "metadata": {
    "pycharm": {
     "name": "#%%\n"
    }
   },
   "outputs": [],
   "source": [
    "def loop(context, x):\n",
    "    env, agent = context\n",
    "    control = agent(env.state)\n",
    "    _, reward, _, _ = env.step(control)\n",
    "    return (env, agent), reward"
   ]
  },
  {
   "cell_type": "code",
   "execution_count": 9,
   "metadata": {},
   "outputs": [
    {
     "name": "stdout",
     "output_type": "stream",
     "text": [
      "[-0.32128084  0.        ]\n",
      "reward_forloop = 1.6837477e-05\n"
     ]
    }
   ],
   "source": [
    " # for loop version\n",
    "T = 100\n",
    "env = MountainCar()\n",
    "print(env.reset())\n",
    "reward = 0\n",
    "for i in range(T):\n",
    "    (env, agent), r = loop((env, agent), 0)\n",
    "    reward += r\n",
    "reward_forloop = reward\n",
    "print('reward_forloop = ' + str(reward_forloop))"
   ]
  },
  {
   "cell_type": "code",
   "execution_count": 10,
   "metadata": {},
   "outputs": [
    {
     "name": "stdout",
     "output_type": "stream",
     "text": [
      "[-0.32128084  0.        ]\n",
      "reward_scan sum = 1.6837477e-05\n"
     ]
    }
   ],
   "source": [
    "# scan version\n",
    "T = 100\n",
    "env = MountainCar()\n",
    "print(env.reset())\n",
    "plan = agent.U\n",
    "xs = jnp.array(jnp.arange(T))\n",
    "_,reward_scan = lax.scan(loop, (env, agent), xs)\n",
    "# correctness test\n",
    "print('reward_scan sum = ' + str(jnp.sum(reward_scan)))"
   ]
  },
  {
   "cell_type": "code",
   "execution_count": null,
   "metadata": {},
   "outputs": [],
   "source": []
  }
 ],
 "metadata": {
  "kernelspec": {
   "display_name": "Python 3",
   "language": "python",
   "name": "python3"
  },
  "language_info": {
   "codemirror_mode": {
    "name": "ipython",
    "version": 3
   },
   "file_extension": ".py",
   "mimetype": "text/x-python",
   "name": "python",
   "nbconvert_exporter": "python",
   "pygments_lexer": "ipython3",
   "version": "3.7.3"
  }
 },
 "nbformat": 4,
 "nbformat_minor": 1
}
