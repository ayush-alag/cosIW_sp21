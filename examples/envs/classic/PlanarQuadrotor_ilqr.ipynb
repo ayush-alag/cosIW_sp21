{
 "cells": [
  {
   "cell_type": "code",
   "execution_count": 1,
   "metadata": {},
   "outputs": [],
   "source": [
    "%load_ext autoreload\n",
    "%autoreload 2"
   ]
  },
  {
   "cell_type": "code",
   "execution_count": 4,
   "metadata": {},
   "outputs": [],
   "source": [
    "import sys\n",
    "sys.path.append('/Users/ayushalag/Documents/cosIW/deluca')"
   ]
  },
  {
   "cell_type": "code",
   "execution_count": 5,
   "metadata": {},
   "outputs": [
    {
     "name": "stderr",
     "output_type": "stream",
     "text": [
      "/Users/ayushalag/anaconda3/lib/python3.7/site-packages/gym/logger.py:30: UserWarning: \u001b[33mWARN: Box bound precision lowered by casting to float32\u001b[0m\n",
      "  warnings.warn(colorize('%s: %s'%('WARN', msg % args), 'yellow'))\n"
     ]
    }
   ],
   "source": [
    "import jax.numpy as jnp\n",
    "import numpy as np\n",
    "import matplotlib.pyplot as plt\n",
    "import jax\n",
    "from jax import lax\n",
    "from deluca.envs import PlanarQuadrotor\n",
    "from deluca.agents import ILQR\n"
   ]
  },
  {
   "cell_type": "code",
   "execution_count": 6,
   "metadata": {},
   "outputs": [
    {
     "name": "stderr",
     "output_type": "stream",
     "text": [
      "WARNING:absl:No GPU/TPU found, falling back to CPU. (Set TF_CPP_MIN_LOG_LEVEL=0 and rerun for more info.)\n"
     ]
    },
    {
     "name": "stdout",
     "output_type": "stream",
     "text": [
      "c = 374122.1\n",
      "cC = 3861.0776\n",
      "iLQR : t = 2, c = 3861.077637\n",
      "c = 3861.0776\n",
      "cC = 219.25636\n",
      "iLQR : t = 3, c = 219.256363\n",
      "c = 219.25636\n",
      "cC = 69.37633\n",
      "iLQR : t = 4, c = 69.376328\n",
      "c = 69.37633\n",
      "cC = 54.809486\n",
      "iLQR : t = 5, c = 54.809486\n",
      "c = 54.809486\n",
      "cC = 52.380783\n",
      "iLQR : t = 6, c = 52.380783\n",
      "c = 52.380783\n",
      "cC = 51.873672\n",
      "iLQR : t = 7, c = 51.873672\n",
      "c = 51.873672\n",
      "cC = 52.308365\n",
      "iLQR : t = 8, c = 51.873672\n",
      "c = 51.873672\n",
      "cC = 51.818443\n",
      "iLQR : t = 9, c = 51.818443\n",
      "c = 51.818443\n",
      "cC = 52.428253\n",
      "iLQR : t = 10, c = 51.818443\n"
     ]
    }
   ],
   "source": [
    "agent = ILQR()\n",
    "agent.train(PlanarQuadrotor(placebo=0), 10)"
   ]
  },
  {
   "cell_type": "code",
   "execution_count": 7,
   "metadata": {
    "pycharm": {
     "name": "#%%\n"
    }
   },
   "outputs": [],
   "source": [
    "def loop(context, x):\n",
    "    env, agent = context\n",
    "    control = agent(env.state)\n",
    "    _, reward, _, _ = env.step(control)\n",
    "    return (env, agent), reward"
   ]
  },
  {
   "cell_type": "code",
   "execution_count": 8,
   "metadata": {},
   "outputs": [
    {
     "name": "stdout",
     "output_type": "stream",
     "text": [
      "[1. 1. 0. 0. 0. 0.]\n",
      "reward_forloop = 51.818443\n"
     ]
    }
   ],
   "source": [
    " # for loop version\n",
    "T = 100\n",
    "env = PlanarQuadrotor(placebo=0)\n",
    "print(env.reset())\n",
    "reward = 0\n",
    "for i in range(T):\n",
    "    (env, agent), r = loop((env, agent), 0)\n",
    "    reward += r\n",
    "reward_forloop = reward\n",
    "print('reward_forloop = ' + str(reward_forloop))"
   ]
  },
  {
   "cell_type": "code",
   "execution_count": 9,
   "metadata": {},
   "outputs": [
    {
     "name": "stdout",
     "output_type": "stream",
     "text": [
      "[1. 1. 0. 0. 0. 0.]\n",
      "reward_scan sum = 51.81845\n"
     ]
    }
   ],
   "source": [
    "# scan version\n",
    "# env = PlanarQuadrotor(placebo=0)\n",
    "agent.reset()\n",
    "print(env.reset())\n",
    "xs = jnp.array(jnp.arange(T))\n",
    "_,reward_scan = lax.scan(loop, (env, agent), xs)\n",
    "\n",
    "# correctness test\n",
    "print('reward_scan sum = ' + str(jnp.sum(reward_scan)))"
   ]
  },
  {
   "cell_type": "code",
   "execution_count": null,
   "metadata": {},
   "outputs": [],
   "source": []
  }
 ],
 "metadata": {
  "kernelspec": {
   "display_name": "Python 3",
   "language": "python",
   "name": "python3"
  },
  "language_info": {
   "codemirror_mode": {
    "name": "ipython",
    "version": 3
   },
   "file_extension": ".py",
   "mimetype": "text/x-python",
   "name": "python",
   "nbconvert_exporter": "python",
   "pygments_lexer": "ipython3",
   "version": "3.7.3"
  }
 },
 "nbformat": 4,
 "nbformat_minor": 1
}
