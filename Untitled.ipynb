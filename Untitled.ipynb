{
 "cells": [
  {
   "cell_type": "code",
   "execution_count": 1,
   "metadata": {},
   "outputs": [
    {
     "name": "stderr",
     "output_type": "stream",
     "text": [
      "/Users/ayushalag/anaconda3/lib/python3.7/site-packages/gym/logger.py:30: UserWarning: \u001b[33mWARN: Box bound precision lowered by casting to float32\u001b[0m\n",
      "  warnings.warn(colorize('%s: %s'%('WARN', msg % args), 'yellow'))\n"
     ]
    }
   ],
   "source": [
    "# Copyright 2020 Google LLC\n",
    "#\n",
    "# Licensed under the Apache License, Version 2.0 (the \"License\");\n",
    "# you may not use this file except in compliance with the License.\n",
    "# You may obtain a copy of the License at\n",
    "#\n",
    "#     https://www.apache.org/licenses/LICENSE-2.0\n",
    "#\n",
    "# Unless required by applicable law or agreed to in writing, software\n",
    "# distributed under the License is distributed on an \"AS IS\" BASIS,\n",
    "# WITHOUT WARRANTIES OR CONDITIONS OF ANY KIND, either express or implied.\n",
    "# See the License for the specific language governing permissions and\n",
    "# limitations under the License.\n",
    "\"\"\"deluca.agents._mem\"\"\"\n",
    "from numbers import Real\n",
    "from typing import Callable\n",
    "\n",
    "import jax\n",
    "import jax.numpy as jnp\n",
    "import numpy as np\n",
    "from jax import grad\n",
    "from jax import jit\n",
    "\n",
    "from deluca.agents._lqr import LQR\n",
    "from deluca.agents.core import Agent\n",
    "\n",
    "from deluca.utils.optimR import optimROBD"
   ]
  },
  {
   "cell_type": "code",
   "execution_count": 2,
   "metadata": {},
   "outputs": [],
   "source": [
    "'''\n",
    "Not Used\n",
    "\n",
    "def sqRegCost(xs, us, qs, T):\n",
    "    summ = 0\n",
    "    for i in range(T):\n",
    "        q = qs[i]\n",
    "        x = xs[i]\n",
    "        u = us[i]\n",
    "        summ += q/2*(np.linalg.norm(x)**2) + (np.linalg.norm(u)**2)/2\n",
    "    return summ\n",
    "'''\n",
    "\n",
    "# TODO: convert to JNP?\n",
    "class Mem(Agent):\n",
    "    def __init__(\n",
    "      self,\n",
    "      T: int,\n",
    "      A,\n",
    "      B): # scalar for the control cost\n",
    "\n",
    "        self._A, self._B = np.array(A), np.array(B)\n",
    "        self._n = A.shape[0]\n",
    "        self._d = B.shape[1]\n",
    "        assert self._n == B.shape[0]\n",
    "\n",
    "        # Start From Uniform Distribution\n",
    "        self._T = T\n",
    "\n",
    "        # keep track of the current timestep\n",
    "        self._t = 0\n",
    "        assert self._t <= self._T\n",
    "\n",
    "        # 0 to T-1: first row is already 0 (initial start) for xs, not for us\n",
    "        self._xs = np.zeros((self._T, self._n))\n",
    "        self._us = np.zeros((self._T+1, self._d))\n",
    "\n",
    "        # used in the computation, set to 0's\n",
    "        self._etas = np.zeros((self._T, self._d))\n",
    "        self._ys = np.zeros((self._T, self._d))\n",
    "\n",
    "        ''' starting the processes '''\n",
    "        self.idx()        # creates ks,d\n",
    "        self.defineP()    # creates ps, p\n",
    "        self.defineCs()   # creates Cs\n",
    "\n",
    "    def idx(self):\n",
    "        self._ks = np.where((self._B).any(axis=1))[0]\n",
    "        assert self._d == len(self._ks)\n",
    "\n",
    "    def defineP(self):\n",
    "        ps = np.ndarray((self._d, ))\n",
    "        ps[0] = self._ks[0]\n",
    "        for i in range(1,len(self._ks)):\n",
    "            ps[i] = self._ks[i] - self._ks[i-1]\n",
    "        self._ps = ps.astype(int)\n",
    "        self._p = int(np.amax(ps))\n",
    "\n",
    "\n",
    "    def defineCs(self):\n",
    "        Cs = np.ndarray((self._p, self._d, self._d))\n",
    "\n",
    "        for i in range(1, self._p+1):\n",
    "            a_identity = self._A[self._ks, :] #check slicing\n",
    "            C = np.ndarray((self._d, self._d))\n",
    "            for j in range(1, self._d+1):\n",
    "                if i-1 <= self._ps[j-1]:\n",
    "                    C[:, j-1] = a_identity[:, self._ks[j-1]+1-i]\n",
    "                else:\n",
    "                    C[:, j-1] = np.zeros(self._d)\n",
    "            Cs[i-1] = C\n",
    "        self._Cs = Cs\n",
    "\n",
    "    # TODO: should update self._t internally\n",
    "    # TODO: should send the actual derivative to optimROBD\n",
    "    def controlAlgo(self, radius_t, qs, lam):\n",
    "        func = self.hitFunc(qs)\n",
    "\n",
    "        solver = optimROBD(self._Cs, self._p, self._T, self._d, func, self._n, lam)\n",
    "\n",
    "        #TODO: add a default value for v_tminus: what happens when t = 0??\n",
    "\n",
    "        ''' changed here to single call '''\n",
    "        assert self._t < self._T\n",
    "        if self._t > 0:\n",
    "            subValue = self._xs[self._t]-np.matmul(self._A, self._xs[self._t - 1])-np.matmul(self._B, self._us[self._t-1])\n",
    "            w_tminus = subValue[self._ks]\n",
    "\n",
    "            self._etas[self._t-1] = w_tminus + self.etaMult()\n",
    "            v_tminus = -1 * self._etas[self._t-1]\n",
    "\n",
    "            omega = self.getOmega()\n",
    "\n",
    "            # TODO: change the parameters of solver\n",
    "            self._ys[self._t] = solver.step(v_tminus, func, omega, radius_t, self._t)\n",
    "\n",
    "        self._us[self._t] = self.getOuts()\n",
    "\n",
    "        self._t += 1\n",
    "        return self._us[self._t-1]\n",
    "\n",
    "    def hitFunc(self, qs):\n",
    "        def func(y):\n",
    "            masterSum = 0\n",
    "            for i in range(self._d):\n",
    "                littleSum = 0\n",
    "                for j in range(int(self._ps[i])):\n",
    "                    littleSum += qs[self._t+j]\n",
    "                masterSum += (littleSum * (y[i] ** 2))\n",
    "            return masterSum/2\n",
    "        return func\n",
    "\n",
    "    # for multiplying the zetas\n",
    "    def etaMult(self):\n",
    "        summ = 0\n",
    "        for idx, C in enumerate(self._Cs):\n",
    "            if self._t-2-idx >= 0: \n",
    "                summ += np.matmul(C, self._etas[self._t-2-idx])\n",
    "        return summ\n",
    "\n",
    "    def getOmega(self):\n",
    "        summ = 0\n",
    "        for idx, C in enumerate(self._Cs):\n",
    "            if self._t-1-idx >= 0: \n",
    "                summ += np.matmul(C, self._etas[self._t-1-idx])\n",
    "        return -1 * summ\n",
    "\n",
    "    def getOuts(self):\n",
    "        lsum = 0\n",
    "        for idx, C in enumerate(self._Cs):\n",
    "            lsum += np.matmul(C, self._ys[self._t-idx-1])\n",
    "        return self._ys[self._t] - lsum\n",
    "    \n",
    "    # takes in state, disturbance radius, qs, lambda\n",
    "    def __call__(self, x_t, radius_t=1, q_t=None, lam=0):\n",
    "        if q_t == None:\n",
    "            q_t = np.ones((self._p+self._T))\n",
    "        self._xs[self._t] = x_t # add it to the list\n",
    "        return self.controlAlgo(radius_t, q_t, lam)"
   ]
  },
  {
   "cell_type": "code",
   "execution_count": 21,
   "metadata": {},
   "outputs": [],
   "source": [
    "T = 5\n",
    "A = np.array([[0, 1, 0, 0, 0], [1, 2, 3, 4, 5], [0, 0, 0, 1, 0], [1,1, 1, 1, 1], [0,1,0,1,0]])\n",
    "B = np.array([[0, 0, 0], [1, 0, 0], [0, 0, 0], [0, 1, 0], [0, 0, 1]])\n",
    "m = Mem(T, A, B)"
   ]
  },
  {
   "cell_type": "code",
   "execution_count": 22,
   "metadata": {},
   "outputs": [
    {
     "name": "stdout",
     "output_type": "stream",
     "text": [
      "5\n",
      "[[0 1 0 0 0]\n",
      " [1 2 3 4 5]\n",
      " [0 0 0 1 0]\n",
      " [1 1 1 1 1]\n",
      " [0 1 0 1 0]]\n",
      "[[0 0 0]\n",
      " [1 0 0]\n",
      " [0 0 0]\n",
      " [0 1 0]\n",
      " [0 0 1]]\n",
      "[1 2 1]\n",
      "2\n",
      "3\n",
      "5\n",
      "[1 3 4]\n",
      "[[[2. 4. 5.]\n",
      "  [1. 1. 1.]\n",
      "  [1. 1. 0.]]\n",
      "\n",
      " [[1. 3. 4.]\n",
      "  [1. 1. 1.]\n",
      "  [0. 0. 1.]]]\n",
      "[[0. 0. 0. 0. 0.]\n",
      " [0. 0. 0. 0. 0.]\n",
      " [0. 0. 0. 0. 0.]\n",
      " [0. 0. 0. 0. 0.]\n",
      " [0. 0. 0. 0. 0.]]\n",
      "[[0. 0. 0.]\n",
      " [0. 0. 0.]\n",
      " [0. 0. 0.]\n",
      " [0. 0. 0.]\n",
      " [0. 0. 0.]]\n",
      "[[0. 0. 0.]\n",
      " [0. 0. 0.]\n",
      " [0. 0. 0.]\n",
      " [0. 0. 0.]\n",
      " [0. 0. 0.]\n",
      " [0. 0. 0.]]\n",
      "[[0. 0. 0.]\n",
      " [0. 0. 0.]\n",
      " [0. 0. 0.]\n",
      " [0. 0. 0.]\n",
      " [0. 0. 0.]]\n",
      "works!\n"
     ]
    }
   ],
   "source": [
    "print(m._T)\n",
    "print(m._A)\n",
    "print(m._B)\n",
    "print(m._ps)\n",
    "print(m._p)\n",
    "print(m._d)\n",
    "print(m._n)\n",
    "print(m._ks)\n",
    "print(m._Cs)\n",
    "print(m._xs)\n",
    "print(m._ys)\n",
    "print(m._us)\n",
    "print(m._etas)\n",
    "print(\"works!\")"
   ]
  },
  {
   "cell_type": "code",
   "execution_count": 28,
   "metadata": {},
   "outputs": [
    {
     "ename": "IndexError",
     "evalue": "index 5 is out of bounds for axis 0 with size 5",
     "output_type": "error",
     "traceback": [
      "\u001b[0;31m---------------------------------------------------------------------------\u001b[0m",
      "\u001b[0;31mIndexError\u001b[0m                                Traceback (most recent call last)",
      "\u001b[0;32m<ipython-input-28-9c2d26eb81fc>\u001b[0m in \u001b[0;36m<module>\u001b[0;34m\u001b[0m\n\u001b[0;32m----> 1\u001b[0;31m \u001b[0mm\u001b[0m\u001b[0;34m.\u001b[0m\u001b[0m__call__\u001b[0m\u001b[0;34m(\u001b[0m\u001b[0mx_t\u001b[0m\u001b[0;34m=\u001b[0m\u001b[0mnp\u001b[0m\u001b[0;34m.\u001b[0m\u001b[0marray\u001b[0m\u001b[0;34m(\u001b[0m\u001b[0;34m[\u001b[0m\u001b[0;34m[\u001b[0m\u001b[0;36m1\u001b[0m\u001b[0;34m,\u001b[0m\u001b[0;36m2\u001b[0m\u001b[0;34m,\u001b[0m\u001b[0;36m3\u001b[0m\u001b[0;34m,\u001b[0m\u001b[0;36m4\u001b[0m\u001b[0;34m,\u001b[0m\u001b[0;36m5\u001b[0m\u001b[0;34m]\u001b[0m\u001b[0;34m]\u001b[0m\u001b[0;34m)\u001b[0m\u001b[0;34m)\u001b[0m\u001b[0;34m\u001b[0m\u001b[0;34m\u001b[0m\u001b[0m\n\u001b[0m",
      "\u001b[0;32m<ipython-input-2-e1b55151345b>\u001b[0m in \u001b[0;36m__call__\u001b[0;34m(self, x_t, radius_t, q_t, lam)\u001b[0m\n\u001b[1;32m    136\u001b[0m         \u001b[0;32mif\u001b[0m \u001b[0mq_t\u001b[0m \u001b[0;34m==\u001b[0m \u001b[0;32mNone\u001b[0m\u001b[0;34m:\u001b[0m\u001b[0;34m\u001b[0m\u001b[0;34m\u001b[0m\u001b[0m\n\u001b[1;32m    137\u001b[0m             \u001b[0mq_t\u001b[0m \u001b[0;34m=\u001b[0m \u001b[0mnp\u001b[0m\u001b[0;34m.\u001b[0m\u001b[0mones\u001b[0m\u001b[0;34m(\u001b[0m\u001b[0;34m(\u001b[0m\u001b[0mself\u001b[0m\u001b[0;34m.\u001b[0m\u001b[0m_p\u001b[0m\u001b[0;34m+\u001b[0m\u001b[0mself\u001b[0m\u001b[0;34m.\u001b[0m\u001b[0m_T\u001b[0m\u001b[0;34m)\u001b[0m\u001b[0;34m)\u001b[0m\u001b[0;34m\u001b[0m\u001b[0;34m\u001b[0m\u001b[0m\n\u001b[0;32m--> 138\u001b[0;31m         \u001b[0mself\u001b[0m\u001b[0;34m.\u001b[0m\u001b[0m_xs\u001b[0m\u001b[0;34m[\u001b[0m\u001b[0mself\u001b[0m\u001b[0;34m.\u001b[0m\u001b[0m_t\u001b[0m\u001b[0;34m]\u001b[0m \u001b[0;34m=\u001b[0m \u001b[0mx_t\u001b[0m \u001b[0;31m# add it to the list\u001b[0m\u001b[0;34m\u001b[0m\u001b[0;34m\u001b[0m\u001b[0m\n\u001b[0m\u001b[1;32m    139\u001b[0m         \u001b[0;32mreturn\u001b[0m \u001b[0mself\u001b[0m\u001b[0;34m.\u001b[0m\u001b[0mcontrolAlgo\u001b[0m\u001b[0;34m(\u001b[0m\u001b[0mradius_t\u001b[0m\u001b[0;34m,\u001b[0m \u001b[0mq_t\u001b[0m\u001b[0;34m,\u001b[0m \u001b[0mlam\u001b[0m\u001b[0;34m)\u001b[0m\u001b[0;34m\u001b[0m\u001b[0;34m\u001b[0m\u001b[0m\n",
      "\u001b[0;31mIndexError\u001b[0m: index 5 is out of bounds for axis 0 with size 5"
     ]
    }
   ],
   "source": [
    "m.__call__(x_t=np.array([[1,2,3,4,5]]))"
   ]
  },
  {
   "cell_type": "code",
   "execution_count": 29,
   "metadata": {},
   "outputs": [
    {
     "data": {
      "text/plain": [
       "array([[ 0.        ,  0.        ,  0.        ],\n",
       "       [-1.51447784,  0.63590125, -0.54290767],\n",
       "       [ 0.98036669,  1.06665175, -0.08241067],\n",
       "       [-0.86919512,  1.94609423,  0.60969825],\n",
       "       [-0.17679228,  0.95256753, -0.01759726]])"
      ]
     },
     "execution_count": 29,
     "metadata": {},
     "output_type": "execute_result"
    }
   ],
   "source": [
    "m._ys"
   ]
  },
  {
   "cell_type": "code",
   "execution_count": 30,
   "metadata": {},
   "outputs": [
    {
     "data": {
      "text/plain": [
       "array([[1., 2., 3., 4., 5.],\n",
       "       [1., 2., 3., 4., 5.],\n",
       "       [1., 2., 3., 4., 5.],\n",
       "       [1., 2., 3., 4., 5.],\n",
       "       [1., 2., 3., 4., 5.]])"
      ]
     },
     "execution_count": 30,
     "metadata": {},
     "output_type": "execute_result"
    }
   ],
   "source": [
    "m._xs"
   ]
  },
  {
   "cell_type": "code",
   "execution_count": 31,
   "metadata": {},
   "outputs": [
    {
     "data": {
      "text/plain": [
       "array([[  0.        ,   0.        ,   0.        ],\n",
       "       [ -1.51447784,   0.63590125,  -0.54290767],\n",
       "       [  4.1802557 ,   2.488136  ,   0.79616592],\n",
       "       [ -4.90607742,   1.4029707 ,  -0.89441252],\n",
       "       [-13.12194947,  -2.6986376 ,  -1.0120857 ],\n",
       "       [  0.        ,   0.        ,   0.        ]])"
      ]
     },
     "execution_count": 31,
     "metadata": {},
     "output_type": "execute_result"
    }
   ],
   "source": [
    "m._us"
   ]
  },
  {
   "cell_type": "code",
   "execution_count": 32,
   "metadata": {},
   "outputs": [
    {
     "data": {
      "text/plain": [
       "array([[-5.30000000e+01, -1.10000000e+01, -1.00000000e+00],\n",
       "       [-2.06485522e+02, -7.66359013e+01, -6.44570923e+01],\n",
       "       [-1.18898037e+03, -4.26066652e+02, -2.85917589e+02],\n",
       "       [-6.25413080e+03, -2.26094609e+03, -1.67960970e+03],\n",
       "       [ 0.00000000e+00,  0.00000000e+00,  0.00000000e+00]])"
      ]
     },
     "execution_count": 32,
     "metadata": {},
     "output_type": "execute_result"
    }
   ],
   "source": [
    "m._etas"
   ]
  },
  {
   "cell_type": "code",
   "execution_count": null,
   "metadata": {},
   "outputs": [],
   "source": []
  }
 ],
 "metadata": {
  "kernelspec": {
   "display_name": "Python 3",
   "language": "python",
   "name": "python3"
  },
  "language_info": {
   "codemirror_mode": {
    "name": "ipython",
    "version": 3
   },
   "file_extension": ".py",
   "mimetype": "text/x-python",
   "name": "python",
   "nbconvert_exporter": "python",
   "pygments_lexer": "ipython3",
   "version": "3.7.3"
  }
 },
 "nbformat": 4,
 "nbformat_minor": 4
}
