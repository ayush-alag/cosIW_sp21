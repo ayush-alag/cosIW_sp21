{
 "cells": [
  {
   "cell_type": "code",
   "execution_count": 4,
   "metadata": {},
   "outputs": [],
   "source": [
    "import jax\n",
    "import jax.numpy as jnp\n",
    "import numpy as np\n",
    "from jax import grad\n",
    "from jax import jit\n",
    "import cvxopt # TODO: speed up via convex approach\n",
    "from scipy.optimize import minimize"
   ]
  },
  {
   "cell_type": "code",
   "execution_count": 5,
   "metadata": {},
   "outputs": [],
   "source": [
    "def hittingCost(h, v_t):\n",
    "    def func(y):\n",
    "        return h(y-v_t)\n",
    "    return func"
   ]
  },
  {
   "cell_type": "code",
   "execution_count": 6,
   "metadata": {},
   "outputs": [
    {
     "name": "stdout",
     "output_type": "stream",
     "text": [
      "0.0899999999999999\n",
      "0.0\n",
      "0.010000000000000018\n",
      "5\n",
      "works!\n"
     ]
    }
   ],
   "source": [
    "''' Hitting cost test: '''\n",
    "def h(x): #TODO: replace with control function\n",
    "    return np.sum(x**2)\n",
    "v_t = 2.3\n",
    "func = hittingCost(h, v_t)\n",
    "\n",
    "''' Try different commands: '''\n",
    "print(func(2)) #should be 0.09\n",
    "print(func(2.3)) # should be 0\n",
    "print(hittingCost(h, v_t)(2.4)) # should be 0.01\n",
    "\n",
    "''' Try vectors '''\n",
    "v_t = np.array([1, 2, 3, 4])\n",
    "print(hittingCost(h, v_t)(np.array([1, 2, 2, 2]))) # should print 5\n",
    "\n",
    "print(\"works!\")"
   ]
  },
  {
   "cell_type": "code",
   "execution_count": 7,
   "metadata": {},
   "outputs": [],
   "source": [
    "def dist(v_t):\n",
    "    def func(y):\n",
    "        norm = np.linalg.norm(y-v_t)\n",
    "        return (norm**2)/2\n",
    "    return func"
   ]
  },
  {
   "cell_type": "code",
   "execution_count": 8,
   "metadata": {},
   "outputs": [
    {
     "name": "stdout",
     "output_type": "stream",
     "text": [
      "0.125\n",
      "2.5000000000000004\n",
      "works!\n"
     ]
    }
   ],
   "source": [
    "'''Distance (L2 norm) test: '''\n",
    "v_t = 2.5\n",
    "print(dist(v_t)(2)) #should print .125 (works)\n",
    "\n",
    "''' Vector test'''\n",
    "v_t = np.array([1,2,3,4])\n",
    "print(dist(v_t)(np.array([1,2,2,2]))) #should print 2.5 (works)\n",
    "print(\"works!\")"
   ]
  },
  {
   "cell_type": "code",
   "execution_count": 9,
   "metadata": {},
   "outputs": [],
   "source": [
    "#sample parameters to ensure it is working\n",
    "\n",
    "yhats = np.array([[1,2,3], [2,3,4], [3,4,5], [4,5,6]])\n",
    "Cs = np.array([[[1,2,3],[1,2,3], [4,5,6]],[[1,1,1], [1,1,1], [1,1,1]]]) # 2 time steps, d = 3\n",
    "p=2\n",
    "d = 3\n",
    "\n",
    "def cost(t):\n",
    "    def func (y):\n",
    "        #TODO: switching cost function\n",
    "        # each element in decisions is a d x 1 vector, and C is dxd (for each time step)\n",
    "\n",
    "        decisions = yhats[t - p : t]\n",
    "\n",
    "        summ = np.zeros(d)\n",
    "        for i in range(p):\n",
    "            C = Cs[i]\n",
    "            summ += np.matmul(C, decisions[p-i-1].T) #TODO: check\n",
    "        norm = np.linalg.norm(y - summ)\n",
    "        return (norm**2)/2\n",
    "    return func"
   ]
  },
  {
   "cell_type": "code",
   "execution_count": 10,
   "metadata": {},
   "outputs": [
    {
     "name": "stdout",
     "output_type": "stream",
     "text": [
      "3434.5\n",
      "1.0000000000000002\n",
      "works!\n"
     ]
    }
   ],
   "source": [
    "''' Test of the cost function (c)'''\n",
    "func = cost(3)\n",
    "print(func(np.array([1,2,3]))) #should be 3434.5 (works!)\n",
    "print(func(np.array([34, 35, 70]))) #should be 1 (works!)\n",
    "print(\"works!\")"
   ]
  },
  {
   "cell_type": "code",
   "execution_count": 11,
   "metadata": {},
   "outputs": [],
   "source": [
    "# precondition: v_t must be a numpy array\n",
    "l1 = 0.5\n",
    "l2 = 0.25\n",
    "def totalCost(fun, v_t, t):\n",
    "    def func(y):\n",
    "        return fun(y) + l1*cost(t)(y) + l2 * dist(v_t)(y)\n",
    "    return func"
   ]
  },
  {
   "cell_type": "code",
   "execution_count": 12,
   "metadata": {},
   "outputs": [
    {
     "name": "stdout",
     "output_type": "stream",
     "text": [
      "7281.625\n",
      "works!\n"
     ]
    }
   ],
   "source": [
    "func = totalCost(h, np.array([34,35,69]), t=3)\n",
    "print(func(np.array([34,35,70]))) # should be 7,281 + 0.5 + (0.5*.25) = 7281.625\n",
    "print(\"works!\")"
   ]
  },
  {
   "cell_type": "code",
   "execution_count": 13,
   "metadata": {},
   "outputs": [],
   "source": [
    "''' Optimizers testing '''\n",
    "# Find the d x 1 vector y that minimizes the function parameter\n",
    "# TODO: change to convex optimizer\n",
    "def _findMin(func):\n",
    "    x0 = np.random.rand(d)\n",
    "    res = minimize(func, x0, method='BFGS', options={'disp':False})\n",
    "    return np.array(res.x)"
   ]
  },
  {
   "cell_type": "code",
   "execution_count": 14,
   "metadata": {},
   "outputs": [
    {
     "name": "stdout",
     "output_type": "stream",
     "text": [
      "[-7.50759429e-09 -6.77953770e-09 -7.97915115e-09]\n",
      "[1.00000004 2.00000007 2.99999995]\n",
      "works!\n"
     ]
    }
   ],
   "source": [
    "print(_findMin(h)) # should print near 0's in a dx1 vector (works)\n",
    "\n",
    "def h2(x):\n",
    "    return np.sum((x-np.array([1,2,3]))**2)-1\n",
    "\n",
    "print(_findMin(h2)) # should be around [1,2,3] (works)\n",
    "\n",
    "print(\"works!\")"
   ]
  },
  {
   "cell_type": "code",
   "execution_count": 15,
   "metadata": {},
   "outputs": [],
   "source": [
    "# subroutine for ROBD and optimistic ROBD\n",
    "def robdSub(fun, t):\n",
    "    vel = _findMin(fun)\n",
    "\n",
    "    # below line: find minimum of entire expression with respect to y\n",
    "    out = _findMin(totalCost(fun, vel, t))\n",
    "    return out"
   ]
  },
  {
   "cell_type": "code",
   "execution_count": 16,
   "metadata": {},
   "outputs": [
    {
     "name": "stdout",
     "output_type": "stream",
     "text": [
      "[ 7.18181753  7.99999679 15.36363527]\n",
      "1404.2499999999998\n",
      "1404.0227272727775\n",
      "1807.6250000000002\n",
      "works!\n"
     ]
    }
   ],
   "source": [
    "''' Testing of Algorithm 1 (robd subroutine)'''\n",
    "t = 3\n",
    "fun = h2\n",
    "print(robdSub(fun, t))\n",
    "#v_t = [1,2,3] which means \n",
    "\n",
    "f = totalCost(fun, np.array([1,2,3]), 3)\n",
    "print(f(np.array([7,8, 15])))\n",
    "print(f(robdSub(fun, t))) # this is the min!\n",
    "print(f(np.array([1,1,1])))\n",
    "print(\"works!\")"
   ]
  },
  {
   "cell_type": "code",
   "execution_count": 17,
   "metadata": {},
   "outputs": [],
   "source": [
    "lam = 0.5\n",
    "def doubleFunc(h_t, t):\n",
    "    def func(params):\n",
    "        y = params[:d]\n",
    "        v = params[d:]\n",
    "        return h_t(y - v) + lam * cost(t)(y)\n",
    "    return func"
   ]
  },
  {
   "cell_type": "code",
   "execution_count": 18,
   "metadata": {},
   "outputs": [
    {
     "name": "stdout",
     "output_type": "stream",
     "text": [
      "1717.25\n"
     ]
    },
    {
     "ename": "ValueError",
     "evalue": "operands could not be broadcast together with shapes (2,3) (0,3) ",
     "output_type": "error",
     "traceback": [
      "\u001b[0;31m---------------------------------------------------------------------------\u001b[0m",
      "\u001b[0;31mValueError\u001b[0m                                Traceback (most recent call last)",
      "\u001b[0;32m<ipython-input-18-67088b4a8f06>\u001b[0m in \u001b[0;36m<module>\u001b[0;34m\u001b[0m\n\u001b[1;32m      1\u001b[0m \u001b[0mfun\u001b[0m \u001b[0;34m=\u001b[0m \u001b[0mdoubleFunc\u001b[0m\u001b[0;34m(\u001b[0m\u001b[0mh\u001b[0m\u001b[0;34m,\u001b[0m \u001b[0;36m3\u001b[0m\u001b[0;34m)\u001b[0m\u001b[0;34m\u001b[0m\u001b[0;34m\u001b[0m\u001b[0m\n\u001b[1;32m      2\u001b[0m \u001b[0mprint\u001b[0m\u001b[0;34m(\u001b[0m\u001b[0;36m0.5\u001b[0m\u001b[0;34m*\u001b[0m\u001b[0mcost\u001b[0m\u001b[0;34m(\u001b[0m\u001b[0;36m3\u001b[0m\u001b[0;34m)\u001b[0m\u001b[0;34m(\u001b[0m\u001b[0mnp\u001b[0m\u001b[0;34m.\u001b[0m\u001b[0marray\u001b[0m\u001b[0;34m(\u001b[0m\u001b[0;34m[\u001b[0m\u001b[0;36m1\u001b[0m\u001b[0;34m,\u001b[0m\u001b[0;36m2\u001b[0m\u001b[0;34m,\u001b[0m\u001b[0;36m3\u001b[0m\u001b[0;34m]\u001b[0m\u001b[0;34m)\u001b[0m\u001b[0;34m)\u001b[0m\u001b[0;34m)\u001b[0m   \u001b[0;31m# should print 1717.25\u001b[0m\u001b[0;34m\u001b[0m\u001b[0;34m\u001b[0m\u001b[0m\n\u001b[0;32m----> 3\u001b[0;31m \u001b[0mprint\u001b[0m\u001b[0;34m(\u001b[0m\u001b[0mfun\u001b[0m\u001b[0;34m(\u001b[0m\u001b[0mnp\u001b[0m\u001b[0;34m.\u001b[0m\u001b[0marray\u001b[0m\u001b[0;34m(\u001b[0m\u001b[0;34m[\u001b[0m\u001b[0;34m[\u001b[0m\u001b[0;36m1\u001b[0m\u001b[0;34m,\u001b[0m\u001b[0;36m2\u001b[0m\u001b[0;34m,\u001b[0m\u001b[0;36m3\u001b[0m\u001b[0;34m]\u001b[0m\u001b[0;34m,\u001b[0m \u001b[0;34m[\u001b[0m\u001b[0;36m1\u001b[0m\u001b[0;34m,\u001b[0m\u001b[0;36m2\u001b[0m\u001b[0;34m,\u001b[0m\u001b[0;36m4\u001b[0m\u001b[0;34m]\u001b[0m\u001b[0;34m]\u001b[0m\u001b[0;34m)\u001b[0m\u001b[0;34m)\u001b[0m\u001b[0;34m)\u001b[0m \u001b[0;31m# should print 1718.25\u001b[0m\u001b[0;34m\u001b[0m\u001b[0;34m\u001b[0m\u001b[0m\n\u001b[0m\u001b[1;32m      4\u001b[0m \u001b[0mprint\u001b[0m\u001b[0;34m(\u001b[0m\u001b[0;34m\"works!\"\u001b[0m\u001b[0;34m)\u001b[0m\u001b[0;34m\u001b[0m\u001b[0;34m\u001b[0m\u001b[0m\n",
      "\u001b[0;32m<ipython-input-17-1603fb56c299>\u001b[0m in \u001b[0;36mfunc\u001b[0;34m(params)\u001b[0m\n\u001b[1;32m      4\u001b[0m         \u001b[0my\u001b[0m \u001b[0;34m=\u001b[0m \u001b[0mparams\u001b[0m\u001b[0;34m[\u001b[0m\u001b[0;34m:\u001b[0m\u001b[0md\u001b[0m\u001b[0;34m]\u001b[0m\u001b[0;34m\u001b[0m\u001b[0;34m\u001b[0m\u001b[0m\n\u001b[1;32m      5\u001b[0m         \u001b[0mv\u001b[0m \u001b[0;34m=\u001b[0m \u001b[0mparams\u001b[0m\u001b[0;34m[\u001b[0m\u001b[0md\u001b[0m\u001b[0;34m:\u001b[0m\u001b[0;34m]\u001b[0m\u001b[0;34m\u001b[0m\u001b[0;34m\u001b[0m\u001b[0m\n\u001b[0;32m----> 6\u001b[0;31m         \u001b[0;32mreturn\u001b[0m \u001b[0mh_t\u001b[0m\u001b[0;34m(\u001b[0m\u001b[0my\u001b[0m \u001b[0;34m-\u001b[0m \u001b[0mv\u001b[0m\u001b[0;34m)\u001b[0m \u001b[0;34m+\u001b[0m \u001b[0mlam\u001b[0m \u001b[0;34m*\u001b[0m \u001b[0mcost\u001b[0m\u001b[0;34m(\u001b[0m\u001b[0mt\u001b[0m\u001b[0;34m)\u001b[0m\u001b[0;34m(\u001b[0m\u001b[0my\u001b[0m\u001b[0;34m)\u001b[0m\u001b[0;34m\u001b[0m\u001b[0;34m\u001b[0m\u001b[0m\n\u001b[0m\u001b[1;32m      7\u001b[0m     \u001b[0;32mreturn\u001b[0m \u001b[0mfunc\u001b[0m\u001b[0;34m\u001b[0m\u001b[0;34m\u001b[0m\u001b[0m\n",
      "\u001b[0;31mValueError\u001b[0m: operands could not be broadcast together with shapes (2,3) (0,3) "
     ]
    }
   ],
   "source": [
    "fun = doubleFunc(h, 3)\n",
    "print(0.5*cost(3)(np.array([1,2,3])))   # should print 1717.25\n",
    "print(fun(np.array([[1,2,3], [1,2,4]]))) # should print 1718.25\n",
    "print(\"works!\")"
   ]
  },
  {
   "cell_type": "code",
   "execution_count": 19,
   "metadata": {},
   "outputs": [],
   "source": [
    "def constraint(omega_t):\n",
    "    def func(params):\n",
    "        y = params[:d]\n",
    "        v = params[d:]\n",
    "        print(y)\n",
    "        print(v)\n",
    "        if tuple(v) in omega_t: #TODO: flesh out based on omega_t structure\n",
    "            return 0\n",
    "        return .1 #return a non-zero element\n",
    "    return func"
   ]
  },
  {
   "cell_type": "code",
   "execution_count": 20,
   "metadata": {},
   "outputs": [
    {
     "name": "stdout",
     "output_type": "stream",
     "text": [
      "{(3, 4, 5), (2, 3, 4), (1, 2, 3)}\n",
      "[[1 1 3]\n",
      " [1 2 3]]\n",
      "[]\n",
      "0.1\n",
      "[[1 1 3]\n",
      " [1 2 6]]\n",
      "[]\n",
      "0.1\n"
     ]
    }
   ],
   "source": [
    "'''Constraint test'''\n",
    "arrays = np.array([[1,2,3], [2,3,4], [3,4,5]])\n",
    "omega_t = {tuple(row) for row in arrays}\n",
    "print(omega_t)\n",
    "fun = constraint(omega_t)\n",
    "print(fun(np.array([[1,1,3], [1,2,3]]))) # should print 0   (found)\n",
    "print(fun(np.array([[1,1,3], [1,2,6]]))) # should print 0.1 (not found)"
   ]
  },
  {
   "cell_type": "code",
   "execution_count": 21,
   "metadata": {},
   "outputs": [],
   "source": [
    "''' Hard part: double optimizer '''\n",
    "#TODO: need to really check/test this\n",
    "def findSetMin(function, omega_t):\n",
    "    x0 = (np.random.randn(d), np.random.randn(d))\n",
    "    print(x0)\n",
    "    # constraint: must be in the set omega_t\n",
    "    cons = ({'type': 'eq', 'fun': constraint(omega_t)})\n",
    "\n",
    "    result = minimize(function, x0, method = 'COBYLA') # TODO: add constraint (constraints=cons)\n",
    "    if result.success:\n",
    "        fitted_params = np.array(result.x[1]) #want to return v?\n",
    "        return fitted_params\n",
    "    else:\n",
    "        raise ValueError(result.message)"
   ]
  },
  {
   "cell_type": "code",
   "execution_count": 22,
   "metadata": {},
   "outputs": [
    {
     "name": "stdout",
     "output_type": "stream",
     "text": [
      "(array([ 0.37113529, -2.17138864, -0.54226052]), array([ 0.15691713,  0.26275447, -1.78092918]))\n"
     ]
    },
    {
     "data": {
      "text/plain": [
       "array([34.99978583, 34.00005218, 67.9994065 ])"
      ]
     },
     "execution_count": 22,
     "metadata": {},
     "output_type": "execute_result"
    }
   ],
   "source": [
    "findSetMin(doubleFunc(h2, t), omega_t)"
   ]
  },
  {
   "cell_type": "code",
   "execution_count": 23,
   "metadata": {},
   "outputs": [],
   "source": [
    "# does a specific instance of oROBD\n",
    "# h_t comes from the control algorithm\n",
    "t = 3\n",
    "v_tminus = np.array([1,2,3])\n",
    "h_t = h2\n",
    "def step(v_tminus, h_t, omega_t, t):\n",
    "    prevH = h2\n",
    "\n",
    "    # returns a function of y\n",
    "    prevFunc = hittingCost(prevH, v_tminus)\n",
    "\n",
    "    # building out the yhat sequence\n",
    "    yhats[t-1, :] = robdSub(prevFunc, t-1)\n",
    "\n",
    "    #TODO: understand the double min thing and recover vtilde\n",
    "    vtilde = findSetMin(doubleFunc(h_t, t), omega_t)\n",
    "\n",
    "    fhatFunc = hittingCost(h_t, vtilde)\n",
    "    prevH = h_t\n",
    "\n",
    "    y_t = robdSub(fhatFunc, t)\n",
    "\n",
    "    return y_t"
   ]
  },
  {
   "cell_type": "code",
   "execution_count": 26,
   "metadata": {},
   "outputs": [
    {
     "name": "stdout",
     "output_type": "stream",
     "text": [
      "(array([-0.38900273, -0.07929622, -0.41396157]), array([-1.13007608, -0.92464424,  0.15752228]))\n"
     ]
    },
    {
     "data": {
      "text/plain": [
       "array([ 73.81802041,  73.81789457, 156.99957592])"
      ]
     },
     "execution_count": 26,
     "metadata": {},
     "output_type": "execute_result"
    }
   ],
   "source": [
    "''' Unit test: should print something reasonable '''\n",
    "step(v_tminus, h_t, omega_t, 3)"
   ]
  },
  {
   "cell_type": "code",
   "execution_count": 10,
   "metadata": {},
   "outputs": [],
   "source": [
    "def twoVar(params):\n",
    "    x = params[0]\n",
    "    y = params[1]\n",
    "    return x**2 + y**2 + 2*x + 8*y"
   ]
  },
  {
   "cell_type": "code",
   "execution_count": 11,
   "metadata": {},
   "outputs": [],
   "source": [
    "def twoVarMin(function):\n",
    "    x0 = (np.random.randn(1), np.random.randn(1))\n",
    "    print(x0)\n",
    "    \n",
    "    result = minimize(function, x0, method='Nelder-Mead')\n",
    "        \n",
    "    if result.success:\n",
    "        return result.x\n",
    "    else:\n",
    "        raise ValueError(result.message)"
   ]
  },
  {
   "cell_type": "code",
   "execution_count": 12,
   "metadata": {},
   "outputs": [
    {
     "name": "stdout",
     "output_type": "stream",
     "text": [
      "(array([-0.99913691]), array([1.99120189]))\n"
     ]
    },
    {
     "data": {
      "text/plain": [
       "array([-0.99999004, -3.99999814])"
      ]
     },
     "execution_count": 12,
     "metadata": {},
     "output_type": "execute_result"
    }
   ],
   "source": [
    "twoVarMin(twoVar)"
   ]
  },
  {
   "cell_type": "code",
   "execution_count": null,
   "metadata": {},
   "outputs": [],
   "source": []
  }
 ],
 "metadata": {
  "kernelspec": {
   "display_name": "Python 3",
   "language": "python",
   "name": "python3"
  },
  "language_info": {
   "codemirror_mode": {
    "name": "ipython",
    "version": 3
   },
   "file_extension": ".py",
   "mimetype": "text/x-python",
   "name": "python",
   "nbconvert_exporter": "python",
   "pygments_lexer": "ipython3",
   "version": "3.7.3"
  }
 },
 "nbformat": 4,
 "nbformat_minor": 4
}
