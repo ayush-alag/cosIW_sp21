{
 "cells": [
  {
   "cell_type": "code",
   "execution_count": 7,
   "metadata": {},
   "outputs": [],
   "source": [
    "import jax\n",
    "import jax.numpy as jnp\n",
    "import numpy as np\n",
    "from jax import grad\n",
    "from jax import jit\n",
    "import cvxopt # TODO: speed up via convex approach\n",
    "from scipy.optimize import minimize"
   ]
  },
  {
   "cell_type": "code",
   "execution_count": 9,
   "metadata": {},
   "outputs": [],
   "source": [
    "def hittingCost(h, v_t):\n",
    "    def func(y):\n",
    "        return h(y-v_t)\n",
    "    return func"
   ]
  },
  {
   "cell_type": "code",
   "execution_count": 107,
   "metadata": {},
   "outputs": [
    {
     "name": "stdout",
     "output_type": "stream",
     "text": [
      "0.0899999999999999\n",
      "0.0\n",
      "0.010000000000000018\n",
      "5\n",
      "works!\n"
     ]
    }
   ],
   "source": [
    "''' Hitting cost test: '''\n",
    "def h(x): #TODO: replace with control function\n",
    "    return np.sum(x**2)\n",
    "v_t = 2.3\n",
    "func = hittingCost(h, v_t)\n",
    "\n",
    "''' Try different commands: '''\n",
    "print(func(2)) #should be 0.09\n",
    "print(func(2.3)) # should be 0\n",
    "print(hittingCost(h, v_t)(2.4)) # should be 0.01\n",
    "\n",
    "''' Try vectors '''\n",
    "v_t = np.array([1, 2, 3, 4])\n",
    "print(hittingCost(h, v_t)(np.array([1, 2, 2, 2]))) # should print 5\n",
    "\n",
    "print(\"works!\")"
   ]
  },
  {
   "cell_type": "code",
   "execution_count": 16,
   "metadata": {},
   "outputs": [],
   "source": [
    "def dist(v_t):\n",
    "    def func(y):\n",
    "        norm = np.linalg.norm(y-v_t)\n",
    "        return (norm**2)/2\n",
    "    return func"
   ]
  },
  {
   "cell_type": "code",
   "execution_count": 108,
   "metadata": {},
   "outputs": [
    {
     "name": "stdout",
     "output_type": "stream",
     "text": [
      "0.125\n",
      "2.5000000000000004\n",
      "works!\n"
     ]
    }
   ],
   "source": [
    "'''Distance (L2 norm) test: '''\n",
    "v_t = 2.5\n",
    "print(dist(v_t)(2)) #should print .125 (works)\n",
    "\n",
    "''' Vector test'''\n",
    "v_t = np.array([1,2,3,4])\n",
    "print(dist(v_t)(np.array([1,2,2,2]))) #should print 2.5 (works)\n",
    "print(\"works!\")"
   ]
  },
  {
   "cell_type": "code",
   "execution_count": 86,
   "metadata": {},
   "outputs": [],
   "source": [
    "#sample parameters to ensure it is working\n",
    "\n",
    "yhats = np.array([[1,2,3], [2,3,4], [3,4,5], [4,5,6]])\n",
    "Cs = np.array([[[1,2,3],[1,2,3], [4,5,6]],[[1,1,1], [1,1,1], [1,1,1]]]) # 2 time steps, d = 3\n",
    "p=2\n",
    "d = 3\n",
    "\n",
    "def cost(t):\n",
    "    def func (y):\n",
    "        #TODO: switching cost function\n",
    "        # each element in decisions is a d x 1 vector, and C is dxd (for each time step)\n",
    "\n",
    "        decisions = yhats[t - p : t]\n",
    "\n",
    "        summ = np.zeros(d)\n",
    "        for i in range(p):\n",
    "            C = Cs[i]\n",
    "            summ += np.matmul(C, decisions[p-i-1].T) #TODO: check\n",
    "        norm = np.linalg.norm(y - summ)\n",
    "        return (norm**2)/2\n",
    "    return func"
   ]
  },
  {
   "cell_type": "code",
   "execution_count": 109,
   "metadata": {},
   "outputs": [
    {
     "name": "stdout",
     "output_type": "stream",
     "text": [
      "3434.5\n",
      "1.0000000000000002\n",
      "works!\n"
     ]
    }
   ],
   "source": [
    "''' Test of the cost function (c)'''\n",
    "func = cost(3)\n",
    "print(func(np.array([1,2,3]))) #should be 3434.5 (works!)\n",
    "print(func(np.array([34, 35, 70]))) #should be 1 (works!)\n",
    "print(\"works!\")"
   ]
  },
  {
   "cell_type": "code",
   "execution_count": 146,
   "metadata": {},
   "outputs": [],
   "source": [
    "# precondition: v_t must be a numpy array\n",
    "l1 = 0.5\n",
    "l2 = 0.25\n",
    "def totalCost(fun, v_t, t):\n",
    "    def func(y):\n",
    "        return fun(y) + l1*cost(t)(y) + l2 * dist(v_t)(y)\n",
    "    return func"
   ]
  },
  {
   "cell_type": "code",
   "execution_count": 113,
   "metadata": {},
   "outputs": [
    {
     "name": "stdout",
     "output_type": "stream",
     "text": [
      "7281\n",
      "7281.625\n",
      "works!\n"
     ]
    }
   ],
   "source": [
    "func = totalCost(h, np.array([34,35,69]), t=3)\n",
    "print(func(np.array([34,35,70]))) # should be 7,281 + 0.5 + (0.5*.25) = 7281.625\n",
    "print(\"works!\")"
   ]
  },
  {
   "cell_type": "code",
   "execution_count": 136,
   "metadata": {},
   "outputs": [],
   "source": [
    "''' Optimizers testing '''\n",
    "# Find the d x 1 vector y that minimizes the function parameter\n",
    "# TODO: change to convex optimizer\n",
    "def _findMin(func):\n",
    "    x0 = np.random.rand(d)\n",
    "    res = minimize(func, x0, method='BFGS', options={'disp':False})\n",
    "    return np.array(res.x)"
   ]
  },
  {
   "cell_type": "code",
   "execution_count": 135,
   "metadata": {},
   "outputs": [
    {
     "name": "stdout",
     "output_type": "stream",
     "text": [
      "[-1.04524355e-08 -4.77960365e-09 -4.77127775e-09]\n",
      "[1.00000014 1.99999996 3.00000006]\n",
      "works!\n"
     ]
    }
   ],
   "source": [
    "print(_findMin(h)) # should print near 0's in a dx1 vector (works)\n",
    "\n",
    "def h2(x):\n",
    "    return np.sum((x-np.array([1,2,3]))**2)-1\n",
    "\n",
    "print(_findMin(h2)) # should be around [1,2,3] (works)\n",
    "\n",
    "print(\"works!\")"
   ]
  },
  {
   "cell_type": "code",
   "execution_count": 147,
   "metadata": {},
   "outputs": [],
   "source": [
    "# subroutine for ROBD and optimistic ROBD\n",
    "def robdSub(fun, t):\n",
    "    vel = _findMin(fun)\n",
    "\n",
    "    # below line: find minimum of entire expression with respect to y\n",
    "    out = _findMin(totalCost(fun, vel, t))\n",
    "    return out"
   ]
  },
  {
   "cell_type": "code",
   "execution_count": 153,
   "metadata": {},
   "outputs": [
    {
     "name": "stdout",
     "output_type": "stream",
     "text": [
      "[ 7.18182189  7.99999977 15.36363985]\n",
      "1404.2499999999998\n",
      "1404.02272727274\n",
      "1807.6250000000002\n",
      "works!\n"
     ]
    }
   ],
   "source": [
    "''' Testing of Algorithm 1 (robd subroutine)'''\n",
    "t = 3\n",
    "fun = h2\n",
    "print(robdSub(fun, t))\n",
    "#v_t = [1,2,3] which means \n",
    "\n",
    "f = totalCost(fun, np.array([1,2,3]), 3)\n",
    "print(f(np.array([7,8, 15])))\n",
    "print(f(robdSub(fun, t))) # this is the min!\n",
    "print(f(np.array([1,1,1])))\n",
    "print(\"works!\")"
   ]
  },
  {
   "cell_type": "code",
   "execution_count": 161,
   "metadata": {},
   "outputs": [],
   "source": [
    "lam = 0.5\n",
    "def doubleFunc(h_t, t):\n",
    "    def func(params):\n",
    "        y, v = params\n",
    "        return h_t(y - v) + lam * cost(t)(y)\n",
    "    return func"
   ]
  },
  {
   "cell_type": "code",
   "execution_count": 174,
   "metadata": {},
   "outputs": [
    {
     "name": "stdout",
     "output_type": "stream",
     "text": [
      "1717.25\n",
      "1718.25\n",
      "works!\n"
     ]
    }
   ],
   "source": [
    "fun = doubleFunc(h, 3)\n",
    "print(0.5*cost(3)(np.array([1,2,3])))   # should print 1717.25\n",
    "print(fun(np.array([[1,2,3], [1,2,4]]))) # should print 1718.25\n",
    "print(\"works!\")"
   ]
  },
  {
   "cell_type": "code",
   "execution_count": 202,
   "metadata": {},
   "outputs": [],
   "source": [
    "def constraint(omega_t):\n",
    "    def func(params):\n",
    "        y, v = params\n",
    "        if tuple(v) in omega_t: #TODO: flesh out based on omega_t structure\n",
    "            return 0\n",
    "        return .1 #return a non-zero element\n",
    "    return func"
   ]
  },
  {
   "cell_type": "code",
   "execution_count": 203,
   "metadata": {},
   "outputs": [
    {
     "name": "stdout",
     "output_type": "stream",
     "text": [
      "{(3, 4, 5), (2, 3, 4), (1, 2, 3)}\n",
      "0\n",
      "0.1\n",
      "works!\n"
     ]
    }
   ],
   "source": [
    "'''Constraint test'''\n",
    "arrays = np.array([[1,2,3], [2,3,4], [3,4,5]])\n",
    "omega_t = {tuple(row) for row in arrays}\n",
    "print(omega_t)\n",
    "fun = constraint(omega_t)\n",
    "print(fun(np.array([[1,1,3], [1,2,3]]))) # should print 0   (found)\n",
    "print(fun(np.array([[1,1,3], [1,2,6]]))) # should print 0.1 (not found)\n",
    "print(\"works!\")"
   ]
  },
  {
   "cell_type": "code",
   "execution_count": 175,
   "metadata": {},
   "outputs": [],
   "source": [
    "''' Hard part: double optimizer '''\n",
    "#TODO: need to really check/test this\n",
    "def findSetMin(function, omega_t):\n",
    "    x0 = np.random.rand(d, 2)\n",
    "    # constraint: must be in the set omega_t\n",
    "    cons = ({'type': 'eq', 'fun': constraint(omega_t)})\n",
    "\n",
    "    result = minimize(function, x0, method = 'SLSQP', constraints=cons)\n",
    "    if result.success:\n",
    "        fitted_params = np.array(result.x[:, 1]) #want to return v?\n",
    "        return fitted_params\n",
    "    else:\n",
    "        raise ValueError(result.message)"
   ]
  },
  {
   "cell_type": "code",
   "execution_count": null,
   "metadata": {},
   "outputs": [],
   "source": []
  }
 ],
 "metadata": {
  "kernelspec": {
   "display_name": "Python 3",
   "language": "python",
   "name": "python3"
  },
  "language_info": {
   "codemirror_mode": {
    "name": "ipython",
    "version": 3
   },
   "file_extension": ".py",
   "mimetype": "text/x-python",
   "name": "python",
   "nbconvert_exporter": "python",
   "pygments_lexer": "ipython3",
   "version": "3.7.3"
  }
 },
 "nbformat": 4,
 "nbformat_minor": 2
}
